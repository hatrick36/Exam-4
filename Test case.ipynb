{
 "cells": [
  {
   "cell_type": "code",
   "execution_count": 21,
   "metadata": {},
   "outputs": [],
   "source": [
    "# import libraries\n",
    "import pandas as pd\n",
    "import numpy as np"
   ]
  },
  {
   "cell_type": "code",
   "execution_count": 41,
   "metadata": {},
   "outputs": [],
   "source": [
    "# create global variable dataframe for functions to share\n",
    "df=pd.DataFrame()"
   ]
  },
  {
   "cell_type": "code",
   "execution_count": 51,
   "metadata": {},
   "outputs": [],
   "source": [
    "def count_k(word):\n",
    "    # gets length of string\n",
    "    max_k=len(word)\n",
    "    k=1\n",
    "    # sets observed_k to empty list\n",
    "    observed_k=[]\n",
    "    # nested loop to get every permutation in string\n",
    "    while k<=max_k:\n",
    "        # reset list-ok every loop\n",
    "        ok=[]\n",
    "        j=k\n",
    "        i=0\n",
    "        # inner loop to get all permutations of length k\n",
    "        while j<=max_k:\n",
    "            # append substring from index i-j to temp list\n",
    "            ok.append(word[i:j])\n",
    "            # increment i & j each loop to go down the full string\n",
    "            j+=1\n",
    "            i+=1\n",
    "        # only append unique values from ok to observed_k\n",
    "        observed_k.append(len(np.unique(ok)))\n",
    "        # increment k\n",
    "        k+=1\n",
    "    # set Observed_k list to new column in global data frame\n",
    "    df['Observed k']=observed_k\n",
    "    "
   ]
  },
  {
   "cell_type": "code",
   "execution_count": 99,
   "metadata": {},
   "outputs": [],
   "source": [
    "def pos_k(word):\n",
    "    # gets the length of string\n",
    "    length=len(word)\n",
    "    k=1\n",
    "    # sets pk to empty string\n",
    "    pk=[]\n",
    "    while k<=length:\n",
    "        # formulas for possible kmers\n",
    "        method_1=(length-k)+1\n",
    "        method_2=4**k\n",
    "        # append pk list with smaller value\n",
    "        if method_1<method_2:\n",
    "            pk.append(method_1)\n",
    "        elif method_2<method_1:\n",
    "            pk.append(method_2)\n",
    "        else:\n",
    "            pk.append(method_2)\n",
    "        # increment k to end loop at length\n",
    "        k+=1\n",
    "    # set pk list to new column in data frame\n",
    "    df['Possible k']=pk"
   ]
  },
  {
   "cell_type": "code",
   "execution_count": 119,
   "metadata": {},
   "outputs": [],
   "source": [
    "def main():\n",
    "    # input file name here\n",
    "    filename='C:/Users/pad39/test'\n",
    "    # open function reads in file\n",
    "    f=open(filename, 'r')\n",
    "    # set contents to string\n",
    "    file=f.read()\n",
    "    # gets observed kmers\n",
    "    count_k(file)\n",
    "    # gets possible kmers\n",
    "    pos_k(file)\n",
    "    # calculates lingustic complexity\n",
    "    lp=df['Observed k'].sum()/df['Possible k'].sum()\n",
    "    # open file again to append mode\n",
    "    f=open(filename, 'a')\n",
    "    # start new line and write to it\n",
    "    f.write('\\n linguistic complexity: ')\n",
    "    f.write(str(lp))\n",
    "    f.close()\n",
    "    # file updated\n",
    "    f = open(filename, \"r\")\n",
    "    f.read()\n",
    "main()"
   ]
  }
 ],
 "metadata": {
  "kernelspec": {
   "display_name": "Python 3",
   "language": "python",
   "name": "python3"
  },
  "language_info": {
   "codemirror_mode": {
    "name": "ipython",
    "version": 3
   },
   "file_extension": ".py",
   "mimetype": "text/x-python",
   "name": "python",
   "nbconvert_exporter": "python",
   "pygments_lexer": "ipython3",
   "version": "3.7.4"
  }
 },
 "nbformat": 4,
 "nbformat_minor": 2
}
